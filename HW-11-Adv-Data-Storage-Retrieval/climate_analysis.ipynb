{
 "cells": [
  {
   "cell_type": "markdown",
   "metadata": {},
   "source": [
    "## Step 3 - Climate Analysis and Exploration"
   ]
  },
  {
   "cell_type": "code",
   "execution_count": 1,
   "metadata": {},
   "outputs": [],
   "source": [
    "import sqlalchemy\n",
    "from sqlalchemy.ext.automap import automap_base\n",
    "from sqlalchemy.orm import Session\n",
    "from sqlalchemy import create_engine, func\n",
    "import matplotlib\n",
    "from matplotlib import style\n",
    "style.use('fivethirtyeight')\n",
    "import matplotlib.pyplot as plt\n",
    "import pandas as pd\n",
    "import numpy as np\n",
    "import datetime as dt\n",
    "from datetime import datetime"
   ]
  },
  {
   "cell_type": "code",
   "execution_count": 2,
   "metadata": {},
   "outputs": [],
   "source": [
    "#Create engine using the 'hawaii.sqlite' database file\n",
    "engine = create_engine(\"sqlite:///hawaii.sqlite\")"
   ]
  },
  {
   "cell_type": "code",
   "execution_count": 3,
   "metadata": {},
   "outputs": [],
   "source": [
    "# Declare a Base using 'automap_base()'\n",
    "Base = automap_base()"
   ]
  },
  {
   "cell_type": "code",
   "execution_count": 4,
   "metadata": {},
   "outputs": [],
   "source": [
    "# Use the Base class to reflect the database tables\n",
    "Base.prepare(engine, reflect=True)"
   ]
  },
  {
   "cell_type": "code",
   "execution_count": 5,
   "metadata": {},
   "outputs": [
    {
     "data": {
      "text/plain": [
       "['measurement', 'station']"
      ]
     },
     "execution_count": 5,
     "metadata": {},
     "output_type": "execute_result"
    }
   ],
   "source": [
    "# Print all of the classes mapped to the Base\n",
    "Base.classes.keys()"
   ]
  },
  {
   "cell_type": "code",
   "execution_count": 6,
   "metadata": {},
   "outputs": [],
   "source": [
    "# Assign the station class to a variable called 'Station'\n",
    "Station=Base.classes.station"
   ]
  },
  {
   "cell_type": "code",
   "execution_count": 7,
   "metadata": {},
   "outputs": [],
   "source": [
    "# Assign the measurement class to a variable called 'Measurement'\n",
    "Measurement=Base.classes.measurement"
   ]
  },
  {
   "cell_type": "code",
   "execution_count": 8,
   "metadata": {},
   "outputs": [],
   "source": [
    "#Create a session\n",
    "session=Session(engine)"
   ]
  },
  {
   "cell_type": "markdown",
   "metadata": {},
   "source": [
    "### Precipitation Analysis"
   ]
  },
  {
   "cell_type": "markdown",
   "metadata": {},
   "source": [
    "<ul>\n",
    "    <li>Design a query to retrieve the last 12 months of precipitation data.</li>\n",
    "    <li>Select only the date and prcp values.</li>\n",
    "    <li>Load the query results into a Pandas DataFrame and set the index to the date column.</li>\n",
    "    <li>Plot the results using the DataFrame plot method.</li>\n",
    "    <li>Use Pandas to print the summary statistics for the precipitation data.</li>\n",
    "</ul>"
   ]
  },
  {
   "cell_type": "code",
   "execution_count": 9,
   "metadata": {},
   "outputs": [
    {
     "name": "stdout",
     "output_type": "stream",
     "text": [
      "2017-08-23\n"
     ]
    }
   ],
   "source": [
    "#calculate the latest date of observation in our db\n",
    "ldate=session.query(Measurement.date).order_by(Measurement.date.desc()).first()\n",
    "l=ldate[0]\n",
    "print(l)"
   ]
  },
  {
   "cell_type": "code",
   "execution_count": 10,
   "metadata": {},
   "outputs": [
    {
     "name": "stdout",
     "output_type": "stream",
     "text": [
      "2017-08-23\n"
     ]
    }
   ],
   "source": [
    "#convert the query result to the datetime object\n",
    "latest_date=pd.to_datetime(l).date()\n",
    "print(latest_date)"
   ]
  },
  {
   "cell_type": "code",
   "execution_count": 11,
   "metadata": {},
   "outputs": [
    {
     "name": "stdout",
     "output_type": "stream",
     "text": [
      "2016-08-23\n"
     ]
    }
   ],
   "source": [
    "#Calculate a time delta (365 days from the latest_date):\n",
    "query_date =latest_date-dt.timedelta(days=365)\n",
    "print(query_date)"
   ]
  },
  {
   "cell_type": "code",
   "execution_count": 12,
   "metadata": {},
   "outputs": [],
   "source": [
    "#query date and prcp values for the last 12 months\n",
    "date_prcp=(session.query(Measurement.date,Measurement.prcp)\n",
    ".filter(Measurement.date>=query_date)\n",
    ".order_by(Measurement.date.desc()).all())\n"
   ]
  },
  {
   "cell_type": "code",
   "execution_count": 15,
   "metadata": {},
   "outputs": [
    {
     "data": {
      "text/html": [
       "<div>\n",
       "<style scoped>\n",
       "    .dataframe tbody tr th:only-of-type {\n",
       "        vertical-align: middle;\n",
       "    }\n",
       "\n",
       "    .dataframe tbody tr th {\n",
       "        vertical-align: top;\n",
       "    }\n",
       "\n",
       "    .dataframe thead th {\n",
       "        text-align: right;\n",
       "    }\n",
       "</style>\n",
       "<table border=\"1\" class=\"dataframe\">\n",
       "  <thead>\n",
       "    <tr style=\"text-align: right;\">\n",
       "      <th></th>\n",
       "      <th>precipitation</th>\n",
       "    </tr>\n",
       "    <tr>\n",
       "      <th>date</th>\n",
       "      <th></th>\n",
       "    </tr>\n",
       "  </thead>\n",
       "  <tbody>\n",
       "    <tr>\n",
       "      <th>2017-08-23</th>\n",
       "      <td>0.00</td>\n",
       "    </tr>\n",
       "    <tr>\n",
       "      <th>2017-08-23</th>\n",
       "      <td>0.00</td>\n",
       "    </tr>\n",
       "    <tr>\n",
       "      <th>2017-08-23</th>\n",
       "      <td>0.08</td>\n",
       "    </tr>\n",
       "    <tr>\n",
       "      <th>2017-08-23</th>\n",
       "      <td>0.45</td>\n",
       "    </tr>\n",
       "    <tr>\n",
       "      <th>2017-08-22</th>\n",
       "      <td>0.00</td>\n",
       "    </tr>\n",
       "    <tr>\n",
       "      <th>2017-08-22</th>\n",
       "      <td>0.00</td>\n",
       "    </tr>\n",
       "    <tr>\n",
       "      <th>2017-08-22</th>\n",
       "      <td>0.50</td>\n",
       "    </tr>\n",
       "    <tr>\n",
       "      <th>2017-08-21</th>\n",
       "      <td>0.00</td>\n",
       "    </tr>\n",
       "    <tr>\n",
       "      <th>2017-08-21</th>\n",
       "      <td>0.02</td>\n",
       "    </tr>\n",
       "    <tr>\n",
       "      <th>2017-08-21</th>\n",
       "      <td>0.00</td>\n",
       "    </tr>\n",
       "  </tbody>\n",
       "</table>\n",
       "</div>"
      ],
      "text/plain": [
       "            precipitation\n",
       "date                     \n",
       "2017-08-23           0.00\n",
       "2017-08-23           0.00\n",
       "2017-08-23           0.08\n",
       "2017-08-23           0.45\n",
       "2017-08-22           0.00\n",
       "2017-08-22           0.00\n",
       "2017-08-22           0.50\n",
       "2017-08-21           0.00\n",
       "2017-08-21           0.02\n",
       "2017-08-21           0.00"
      ]
     },
     "execution_count": 15,
     "metadata": {},
     "output_type": "execute_result"
    }
   ],
   "source": [
    "#Load the query results into a Pandas DataFrame\n",
    "df_prcp=pd.DataFrame(date_prcp, columns=['date','precipitation'])\n",
    "#set the index to the date column\n",
    "df_prcp.set_index('date', inplace=True)\n",
    "df_prcp.head(10)"
   ]
  },
  {
   "cell_type": "code",
   "execution_count": 16,
   "metadata": {},
   "outputs": [],
   "source": [
    "#convert 'date' from str to datetime object\n",
    "df_prcp.index = pd.to_datetime(df_prcp.index)\n"
   ]
  },
  {
   "cell_type": "code",
   "execution_count": 17,
   "metadata": {
    "scrolled": false
   },
   "outputs": [
    {
     "data": {
      "image/png": "[encoded data removed]",
      "text/plain": [
       "<matplotlib.figure.Figure at 0x108426d68>"
      ]
     },
     "metadata": {},
     "output_type": "display_data"
    }
   ],
   "source": [
    "#Plot the results using the DataFrame plot method\n",
    "#Using the x_compat parameter, it is possible to suppress automatic tick resolution adjustment\n",
    "#http://pandas.pydata.org/pandas-docs/stable/visualization.html#suppressing-tick-resolution-adjustment\n",
    "df_prcp.plot(figsize=(10,10), x_compat=True)\n",
    "plt.tight_layout()\n",
    "plt.savefig(\"precipitation.png\", dpi=100, bbox_inches='tight')\n",
    "plt.show()"
   ]
  },
  {
   "cell_type": "code",
   "execution_count": 18,
   "metadata": {},
   "outputs": [
    {
     "data": {
      "text/html": [
       "<div>\n",
       "<style scoped>\n",
       "    .dataframe tbody tr th:only-of-type {\n",
       "        vertical-align: middle;\n",
       "    }\n",
       "\n",
       "    .dataframe tbody tr th {\n",
       "        vertical-align: top;\n",
       "    }\n",
       "\n",
       "    .dataframe thead th {\n",
       "        text-align: right;\n",
       "    }\n",
       "</style>\n",
       "<table border=\"1\" class=\"dataframe\">\n",
       "  <thead>\n",
       "    <tr style=\"text-align: right;\">\n",
       "      <th></th>\n",
       "      <th>precipitation</th>\n",
       "    </tr>\n",
       "  </thead>\n",
       "  <tbody>\n",
       "    <tr>\n",
       "      <th>count</th>\n",
       "      <td>2230.000000</td>\n",
       "    </tr>\n",
       "    <tr>\n",
       "      <th>mean</th>\n",
       "      <td>0.160664</td>\n",
       "    </tr>\n",
       "    <tr>\n",
       "      <th>std</th>\n",
       "      <td>0.442067</td>\n",
       "    </tr>\n",
       "    <tr>\n",
       "      <th>min</th>\n",
       "      <td>0.000000</td>\n",
       "    </tr>\n",
       "    <tr>\n",
       "      <th>25%</th>\n",
       "      <td>0.000000</td>\n",
       "    </tr>\n",
       "    <tr>\n",
       "      <th>50%</th>\n",
       "      <td>0.010000</td>\n",
       "    </tr>\n",
       "    <tr>\n",
       "      <th>75%</th>\n",
       "      <td>0.110000</td>\n",
       "    </tr>\n",
       "    <tr>\n",
       "      <th>max</th>\n",
       "      <td>6.700000</td>\n",
       "    </tr>\n",
       "  </tbody>\n",
       "</table>\n",
       "</div>"
      ],
      "text/plain": [
       "       precipitation\n",
       "count    2230.000000\n",
       "mean        0.160664\n",
       "std         0.442067\n",
       "min         0.000000\n",
       "25%         0.000000\n",
       "50%         0.010000\n",
       "75%         0.110000\n",
       "max         6.700000"
      ]
     },
     "execution_count": 18,
     "metadata": {},
     "output_type": "execute_result"
    }
   ],
   "source": [
    "#Use Pandas to print the summary statistics for the precipitation data\n",
    "df_prcp.describe()"
   ]
  },
  {
   "cell_type": "markdown",
   "metadata": {},
   "source": [
    "### Station Analysis"
   ]
  },
  {
   "cell_type": "markdown",
   "metadata": {},
   "source": [
    "<ul>\n",
    "    <li>Design a query to calculate the total number of stations.</li>\n",
    "\n",
    "<li>Design a query to find the most active stations.\n",
    "   <ul>\n",
    "\n",
    "        <li>List the stations and observation counts in descending order</li>\n",
    "        <li>Which station has the highest number of observations?</li>\n",
    "   </ul>\n",
    "\n",
    "</li>\n",
    "\n",
    "<li>Design a query to retrieve the last 12 months of temperature observation data (tobs).\n",
    "    <ul>\n",
    "\n",
    "<li>Filter by the station with the highest number of observations.</li>\n",
    "<li>Plot the results as a histogram with bins=12.</li>\n",
    "    </ul>\n",
    "\n",
    "</li>\n",
    "\n"
   ]
  },
  {
   "cell_type": "code",
   "execution_count": 19,
   "metadata": {},
   "outputs": [
    {
     "data": {
      "text/plain": [
       "[(9)]"
      ]
     },
     "execution_count": 19,
     "metadata": {},
     "output_type": "execute_result"
    }
   ],
   "source": [
    "#calculate the total number of stations:\n",
    "session.query(func.count(Station.station)).all()"
   ]
  },
  {
   "cell_type": "code",
   "execution_count": 20,
   "metadata": {},
   "outputs": [
    {
     "data": {
      "text/plain": [
       "[('USC00519281', 'WAIHEE 837.5, HI US', 2772),\n",
       " ('USC00519397', 'WAIKIKI 717.2, HI US', 2724),\n",
       " ('USC00513117', 'KANEOHE 838.1, HI US', 2709),\n",
       " ('USC00519523', 'WAIMANALO EXPERIMENTAL FARM, HI US', 2669),\n",
       " ('USC00516128', 'MANOA LYON ARBO 785.2, HI US', 2612),\n",
       " ('USC00514830', 'KUALOA RANCH HEADQUARTERS 886.9, HI US', 2202),\n",
       " ('USC00511918', 'HONOLULU OBSERVATORY 702.2, HI US', 1979),\n",
       " ('USC00517948', 'PEARL CITY, HI US', 1372),\n",
       " ('USC00518838', 'UPPER WAHIAWA 874.3, HI US', 511)]"
      ]
     },
     "execution_count": 20,
     "metadata": {},
     "output_type": "execute_result"
    }
   ],
   "source": [
    "# find the most active stations, list the stations and observation counts in descending order\n",
    "(session.query(Measurement.station, Station.name, func.count(Measurement.station))\n",
    " .filter(Measurement.station==Station.station)\n",
    " .group_by(Measurement.station).order_by(func.count(Measurement.station).desc()).all())"
   ]
  },
  {
   "cell_type": "markdown",
   "metadata": {},
   "source": [
    "'USC00519281' station has the highest number of observations: 2772"
   ]
  },
  {
   "cell_type": "code",
   "execution_count": 21,
   "metadata": {},
   "outputs": [],
   "source": [
    "#Design a query to retrieve the last 12 months of temperature observation data (tobs)\n",
    "#Filter by the station with the highest number of observations: 'USC00519281'\n",
    "#In previous module (Precipitation Analysis) we calculated query_date=latest_date-dt.timedelta(days=365)=2016-08-23\n",
    "tobs_data=(session.query(Measurement.tobs).filter(Measurement.station=='USC00519281')\n",
    "           .filter(Measurement.date>=query_date).all())\n"
   ]
  },
  {
   "cell_type": "code",
   "execution_count": 22,
   "metadata": {},
   "outputs": [
    {
     "data": {
      "text/html": [
       "<div>\n",
       "<style scoped>\n",
       "    .dataframe tbody tr th:only-of-type {\n",
       "        vertical-align: middle;\n",
       "    }\n",
       "\n",
       "    .dataframe tbody tr th {\n",
       "        vertical-align: top;\n",
       "    }\n",
       "\n",
       "    .dataframe thead th {\n",
       "        text-align: right;\n",
       "    }\n",
       "</style>\n",
       "<table border=\"1\" class=\"dataframe\">\n",
       "  <thead>\n",
       "    <tr style=\"text-align: right;\">\n",
       "      <th></th>\n",
       "      <th>tobs</th>\n",
       "    </tr>\n",
       "  </thead>\n",
       "  <tbody>\n",
       "    <tr>\n",
       "      <th>0</th>\n",
       "      <td>77</td>\n",
       "    </tr>\n",
       "    <tr>\n",
       "      <th>1</th>\n",
       "      <td>77</td>\n",
       "    </tr>\n",
       "    <tr>\n",
       "      <th>2</th>\n",
       "      <td>80</td>\n",
       "    </tr>\n",
       "    <tr>\n",
       "      <th>3</th>\n",
       "      <td>80</td>\n",
       "    </tr>\n",
       "    <tr>\n",
       "      <th>4</th>\n",
       "      <td>75</td>\n",
       "    </tr>\n",
       "    <tr>\n",
       "      <th>5</th>\n",
       "      <td>73</td>\n",
       "    </tr>\n",
       "    <tr>\n",
       "      <th>6</th>\n",
       "      <td>78</td>\n",
       "    </tr>\n",
       "    <tr>\n",
       "      <th>7</th>\n",
       "      <td>77</td>\n",
       "    </tr>\n",
       "    <tr>\n",
       "      <th>8</th>\n",
       "      <td>78</td>\n",
       "    </tr>\n",
       "    <tr>\n",
       "      <th>9</th>\n",
       "      <td>80</td>\n",
       "    </tr>\n",
       "  </tbody>\n",
       "</table>\n",
       "</div>"
      ],
      "text/plain": [
       "   tobs\n",
       "0    77\n",
       "1    77\n",
       "2    80\n",
       "3    80\n",
       "4    75\n",
       "5    73\n",
       "6    78\n",
       "7    77\n",
       "8    78\n",
       "9    80"
      ]
     },
     "execution_count": 22,
     "metadata": {},
     "output_type": "execute_result"
    }
   ],
   "source": [
    "#Load the query results into a Pandas DataFrame:\n",
    "tobs_df=pd.DataFrame(tobs_data, columns=['tobs'])\n",
    "tobs_df.head(10)"
   ]
  },
  {
   "cell_type": "code",
   "execution_count": 23,
   "metadata": {},
   "outputs": [
    {
     "data": {
      "image/png": "[encoded data removed]",
      "text/plain": [
       "<matplotlib.figure.Figure at 0x1117dbbe0>"
      ]
     },
     "metadata": {},
     "output_type": "display_data"
    }
   ],
   "source": [
    "#Plot the results as a histogram with bins=12.\n",
    "tobs_df.plot(kind='hist',bins=12, figsize=(6,6))\n",
    "plt.title(\"Temperature Observation Data\")\n",
    "plt.tight_layout()\n",
    "plt.savefig(\"tobs.png\", dpi=100, bbox_inches='tight')\n",
    "plt.show()"
   ]
  },
  {
   "cell_type": "markdown",
   "metadata": {},
   "source": [
    "### Temperature Analysis"
   ]
  },
  {
   "cell_type": "markdown",
   "metadata": {},
   "source": [
    "<ul>\n",
    "    <li>Write a function called calc_temps that will accept a start date and end date in the format %Y-%m-%d and return the minimum, average, and maximum temperatures for that range of dates.</li>\n",
    "    <li>Use the calc_temps function to calculate the min, avg, and max temperatures for your trip using the matching dates from the previous year (i.e. use \"2017-01-01\" if your trip start date was \"2018-01-01\")</li>\n",
    "\n",
    "    <li>Plot the min, avg, and max temperature from your previous query as a bar chart.\n",
    "           <ul>\n",
    "\n",
    "           <li>Use the average temperature as the bar height.</li>\n",
    "           <li>Use the peak-to-peak (tmax-tmin) value as the y error bar (yerr).</li>\n",
    "           </ul>\n",
    "    </li>\n",
    "</ul>\n",
    "\n",
    "\n"
   ]
  },
  {
   "cell_type": "code",
   "execution_count": 24,
   "metadata": {},
   "outputs": [],
   "source": [
    "#function accepts a start date and end date in the format %Y-%m-%d \n",
    "#function returns the minimum, average, and maximum temperatures for that range of dates from Measurement table\n",
    "def calc_temps(start_date, end_date):\n",
    "    temp=(session.query(func.min(Measurement.tobs), func.avg(Measurement.tobs), func.max(Measurement.tobs))\n",
    "              .filter(Measurement.date>=start_date)\n",
    "              .filter(Measurement.date<=end_date).all())\n",
    "   \n",
    "    return temp"
   ]
  },
  {
   "cell_type": "code",
   "execution_count": 25,
   "metadata": {},
   "outputs": [
    {
     "name": "stdout",
     "output_type": "stream",
     "text": [
      "[(66, 75.0253164556962, 80)]\n"
     ]
    },
    {
     "data": {
      "text/plain": [
       "list"
      ]
     },
     "execution_count": 25,
     "metadata": {},
     "output_type": "execute_result"
    }
   ],
   "source": [
    "#calculate the min, avg, and max temperatures for your trip using the matching dates from the previous year\n",
    "\n",
    "res_temp=calc_temps('2017-05-05', '2017-05-18')\n",
    "print(res_temp)\n",
    "type(res_temp)"
   ]
  },
  {
   "cell_type": "code",
   "execution_count": 26,
   "metadata": {},
   "outputs": [],
   "source": [
    "#Plot the min, avg, and max temperature from your previous query as a bar chart.\n",
    "#Use the average temperature as the bar height.\n",
    "#Use the peak-to-peak (tmax-tmin) value as the y error bar (yerr).\n",
    "x=1\n",
    "y=round(res_temp[0][1],2)\n",
    "yerr=res_temp[0][2]-res_temp[0][0]"
   ]
  },
  {
   "cell_type": "code",
   "execution_count": 27,
   "metadata": {},
   "outputs": [
    {
     "data": {
      "image/png": "[encoded data removed]",
      "text/plain": [
       "<matplotlib.figure.Figure at 0x112363a90>"
      ]
     },
     "metadata": {},
     "output_type": "display_data"
    }
   ],
   "source": [
    "#create a bar chart\n",
    "fig = plt.figure(figsize=(4, 8))\n",
    "plt.bar(x, y, yerr=yerr, align='center', color='lightcoral', alpha=0.7, tick_label=1)\n",
    "plt.title(\"Trip Avg Temp\")\n",
    "plt.ylabel(\"Temp(F)\")\n",
    "plt.tight_layout()\n",
    "plt.savefig(\"bar.png\", dpi=100)\n",
    "plt.show()"
   ]
  },
  {
   "cell_type": "markdown",
   "metadata": {},
   "source": [
    "### Optional Recommended Analysis"
   ]
  },
  {
   "cell_type": "markdown",
   "metadata": {},
   "source": [
    "Calculate the rainfall per weather station using the previous year's matching dates."
   ]
  },
  {
   "cell_type": "code",
   "execution_count": 28,
   "metadata": {},
   "outputs": [
    {
     "data": {
      "text/plain": [
       "[('USC00516128', 'MANOA LYON ARBO 785.2, HI US', 4.62),\n",
       " ('USC00519281', 'WAIHEE 837.5, HI US', 3.28),\n",
       " ('USC00513117', 'KANEOHE 838.1, HI US', 2.32),\n",
       " ('USC00514830', 'KUALOA RANCH HEADQUARTERS 886.9, HI US', 2.02),\n",
       " ('USC00519523', 'WAIMANALO EXPERIMENTAL FARM, HI US', 1.26),\n",
       " ('USC00519397', 'WAIKIKI 717.2, HI US', 0.08)]"
      ]
     },
     "execution_count": 28,
     "metadata": {},
     "output_type": "execute_result"
    }
   ],
   "source": [
    "(session.query(Measurement.station, Station.name, func.sum(Measurement.prcp))\n",
    "          .filter(Measurement.station==Station.station)\n",
    "          .filter(Measurement.date>='2017-05-05')\n",
    "          .filter(Measurement.date<='2017-05-18')\n",
    "          .group_by(Measurement.station)\n",
    "          .order_by(func.sum(Measurement.prcp).desc()).all())\n"
   ]
  },
  {
   "cell_type": "markdown",
   "metadata": {},
   "source": [
    "####    Calculate the daily normals. Normals are the averages for min, avg, and max temperatures.\n",
    "\n"
   ]
  },
  {
   "cell_type": "code",
   "execution_count": 29,
   "metadata": {},
   "outputs": [],
   "source": [
    "#function calculates the daily normals for a specific date. \n",
    "#This date string should be in the format %m-%d. \n",
    "def daily_normals(md):\n",
    "    daily_n=(session.query(func.min(Measurement.tobs), func.avg(Measurement.tobs), func.max(Measurement.tobs))\n",
    "        .filter(func.strftime(\"%m-%d\", Measurement.date)==md).all())\n",
    "        \n",
    "    return(daily_n) \n",
    "               \n",
    "   "
   ]
  },
  {
   "cell_type": "code",
   "execution_count": 30,
   "metadata": {},
   "outputs": [
    {
     "name": "stdout",
     "output_type": "stream",
     "text": [
      "[(68, 76.5576923076923, 83)]\n"
     ]
    }
   ],
   "source": [
    "print(daily_normals('08-08'))"
   ]
  },
  {
   "cell_type": "code",
   "execution_count": 31,
   "metadata": {},
   "outputs": [],
   "source": [
    "#Create a list of dates for your trip \n",
    "date1='2017-05-05'\n",
    "date2='2017-05-18'\n",
    "dates = pd.date_range(date1, date2)"
   ]
  },
  {
   "cell_type": "code",
   "execution_count": 32,
   "metadata": {},
   "outputs": [
    {
     "name": "stdout",
     "output_type": "stream",
     "text": [
      "DatetimeIndex(['2017-05-05', '2017-05-06', '2017-05-07', '2017-05-08',\n",
      "               '2017-05-09', '2017-05-10', '2017-05-11', '2017-05-12',\n",
      "               '2017-05-13', '2017-05-14', '2017-05-15', '2017-05-16',\n",
      "               '2017-05-17', '2017-05-18'],\n",
      "              dtype='datetime64[ns]', freq='D')\n"
     ]
    }
   ],
   "source": [
    "print(dates)"
   ]
  },
  {
   "cell_type": "code",
   "execution_count": 33,
   "metadata": {},
   "outputs": [
    {
     "name": "stdout",
     "output_type": "stream",
     "text": [
      "['05-05' '05-06' '05-07' '05-08' '05-09' '05-10' '05-11' '05-12' '05-13'\n",
      " '05-14' '05-15' '05-16' '05-17' '05-18']\n"
     ]
    }
   ],
   "source": [
    "#change format to %m-%d\n",
    "new_dates=dates.strftime('%m-%d')\n",
    "print(new_dates)"
   ]
  },
  {
   "cell_type": "code",
   "execution_count": 34,
   "metadata": {},
   "outputs": [
    {
     "name": "stdout",
     "output_type": "stream",
     "text": [
      "[(67, 73.39655172413794, 79), (66, 73.14035087719299, 80), (64, 71.78846153846153, 79), (65, 72.18867924528301, 80), (67, 72.9322033898305, 79), (64, 73.3157894736842, 78), (65, 73.61111111111111, 79), (65, 73.13793103448276, 79), (67, 73.14285714285714, 79), (63, 73.89285714285714, 80), (63, 73.69090909090909, 79), (68, 74.37931034482759, 80), (68, 74.45, 79), (68, 74.10714285714286, 82)]\n"
     ]
    }
   ],
   "source": [
    "#Use the daily_normals function to calculate the normals for each date string and append the results to a list.\n",
    "daily_norm=[]\n",
    "for date in new_dates:\n",
    "    daily_norm.append(daily_normals(date)[0])    \n",
    "print(daily_norm)"
   ]
  },
  {
   "cell_type": "code",
   "execution_count": 35,
   "metadata": {},
   "outputs": [
    {
     "data": {
      "text/html": [
       "<div>\n",
       "<style scoped>\n",
       "    .dataframe tbody tr th:only-of-type {\n",
       "        vertical-align: middle;\n",
       "    }\n",
       "\n",
       "    .dataframe tbody tr th {\n",
       "        vertical-align: top;\n",
       "    }\n",
       "\n",
       "    .dataframe thead th {\n",
       "        text-align: right;\n",
       "    }\n",
       "</style>\n",
       "<table border=\"1\" class=\"dataframe\">\n",
       "  <thead>\n",
       "    <tr style=\"text-align: right;\">\n",
       "      <th></th>\n",
       "      <th>min_temp</th>\n",
       "      <th>avg_temp</th>\n",
       "      <th>max_temp</th>\n",
       "    </tr>\n",
       "  </thead>\n",
       "  <tbody>\n",
       "    <tr>\n",
       "      <th>0</th>\n",
       "      <td>67</td>\n",
       "      <td>73.396552</td>\n",
       "      <td>79</td>\n",
       "    </tr>\n",
       "    <tr>\n",
       "      <th>1</th>\n",
       "      <td>66</td>\n",
       "      <td>73.140351</td>\n",
       "      <td>80</td>\n",
       "    </tr>\n",
       "    <tr>\n",
       "      <th>2</th>\n",
       "      <td>64</td>\n",
       "      <td>71.788462</td>\n",
       "      <td>79</td>\n",
       "    </tr>\n",
       "    <tr>\n",
       "      <th>3</th>\n",
       "      <td>65</td>\n",
       "      <td>72.188679</td>\n",
       "      <td>80</td>\n",
       "    </tr>\n",
       "    <tr>\n",
       "      <th>4</th>\n",
       "      <td>67</td>\n",
       "      <td>72.932203</td>\n",
       "      <td>79</td>\n",
       "    </tr>\n",
       "    <tr>\n",
       "      <th>5</th>\n",
       "      <td>64</td>\n",
       "      <td>73.315789</td>\n",
       "      <td>78</td>\n",
       "    </tr>\n",
       "    <tr>\n",
       "      <th>6</th>\n",
       "      <td>65</td>\n",
       "      <td>73.611111</td>\n",
       "      <td>79</td>\n",
       "    </tr>\n",
       "    <tr>\n",
       "      <th>7</th>\n",
       "      <td>65</td>\n",
       "      <td>73.137931</td>\n",
       "      <td>79</td>\n",
       "    </tr>\n",
       "    <tr>\n",
       "      <th>8</th>\n",
       "      <td>67</td>\n",
       "      <td>73.142857</td>\n",
       "      <td>79</td>\n",
       "    </tr>\n",
       "    <tr>\n",
       "      <th>9</th>\n",
       "      <td>63</td>\n",
       "      <td>73.892857</td>\n",
       "      <td>80</td>\n",
       "    </tr>\n",
       "    <tr>\n",
       "      <th>10</th>\n",
       "      <td>63</td>\n",
       "      <td>73.690909</td>\n",
       "      <td>79</td>\n",
       "    </tr>\n",
       "    <tr>\n",
       "      <th>11</th>\n",
       "      <td>68</td>\n",
       "      <td>74.379310</td>\n",
       "      <td>80</td>\n",
       "    </tr>\n",
       "    <tr>\n",
       "      <th>12</th>\n",
       "      <td>68</td>\n",
       "      <td>74.450000</td>\n",
       "      <td>79</td>\n",
       "    </tr>\n",
       "    <tr>\n",
       "      <th>13</th>\n",
       "      <td>68</td>\n",
       "      <td>74.107143</td>\n",
       "      <td>82</td>\n",
       "    </tr>\n",
       "  </tbody>\n",
       "</table>\n",
       "</div>"
      ],
      "text/plain": [
       "    min_temp   avg_temp  max_temp\n",
       "0         67  73.396552        79\n",
       "1         66  73.140351        80\n",
       "2         64  71.788462        79\n",
       "3         65  72.188679        80\n",
       "4         67  72.932203        79\n",
       "5         64  73.315789        78\n",
       "6         65  73.611111        79\n",
       "7         65  73.137931        79\n",
       "8         67  73.142857        79\n",
       "9         63  73.892857        80\n",
       "10        63  73.690909        79\n",
       "11        68  74.379310        80\n",
       "12        68  74.450000        79\n",
       "13        68  74.107143        82"
      ]
     },
     "execution_count": 35,
     "metadata": {},
     "output_type": "execute_result"
    }
   ],
   "source": [
    "#Load the list of daily normals into a Pandas DataFrame and set the index equal to the date.\n",
    "dn_df=pd.DataFrame(daily_norm, columns=['min_temp','avg_temp','max_temp'])\n",
    "dn_df.head(15)"
   ]
  },
  {
   "cell_type": "code",
   "execution_count": 38,
   "metadata": {},
   "outputs": [
    {
     "data": {
      "text/html": [
       "<div>\n",
       "<style scoped>\n",
       "    .dataframe tbody tr th:only-of-type {\n",
       "        vertical-align: middle;\n",
       "    }\n",
       "\n",
       "    .dataframe tbody tr th {\n",
       "        vertical-align: top;\n",
       "    }\n",
       "\n",
       "    .dataframe thead th {\n",
       "        text-align: right;\n",
       "    }\n",
       "</style>\n",
       "<table border=\"1\" class=\"dataframe\">\n",
       "  <thead>\n",
       "    <tr style=\"text-align: right;\">\n",
       "      <th></th>\n",
       "      <th>min_temp</th>\n",
       "      <th>avg_temp</th>\n",
       "      <th>max_temp</th>\n",
       "    </tr>\n",
       "    <tr>\n",
       "      <th>date</th>\n",
       "      <th></th>\n",
       "      <th></th>\n",
       "      <th></th>\n",
       "    </tr>\n",
       "  </thead>\n",
       "  <tbody>\n",
       "    <tr>\n",
       "      <th>2017-05-05</th>\n",
       "      <td>67</td>\n",
       "      <td>73.396552</td>\n",
       "      <td>79</td>\n",
       "    </tr>\n",
       "    <tr>\n",
       "      <th>2017-05-06</th>\n",
       "      <td>66</td>\n",
       "      <td>73.140351</td>\n",
       "      <td>80</td>\n",
       "    </tr>\n",
       "    <tr>\n",
       "      <th>2017-05-07</th>\n",
       "      <td>64</td>\n",
       "      <td>71.788462</td>\n",
       "      <td>79</td>\n",
       "    </tr>\n",
       "    <tr>\n",
       "      <th>2017-05-08</th>\n",
       "      <td>65</td>\n",
       "      <td>72.188679</td>\n",
       "      <td>80</td>\n",
       "    </tr>\n",
       "    <tr>\n",
       "      <th>2017-05-09</th>\n",
       "      <td>67</td>\n",
       "      <td>72.932203</td>\n",
       "      <td>79</td>\n",
       "    </tr>\n",
       "    <tr>\n",
       "      <th>2017-05-10</th>\n",
       "      <td>64</td>\n",
       "      <td>73.315789</td>\n",
       "      <td>78</td>\n",
       "    </tr>\n",
       "    <tr>\n",
       "      <th>2017-05-11</th>\n",
       "      <td>65</td>\n",
       "      <td>73.611111</td>\n",
       "      <td>79</td>\n",
       "    </tr>\n",
       "    <tr>\n",
       "      <th>2017-05-12</th>\n",
       "      <td>65</td>\n",
       "      <td>73.137931</td>\n",
       "      <td>79</td>\n",
       "    </tr>\n",
       "    <tr>\n",
       "      <th>2017-05-13</th>\n",
       "      <td>67</td>\n",
       "      <td>73.142857</td>\n",
       "      <td>79</td>\n",
       "    </tr>\n",
       "    <tr>\n",
       "      <th>2017-05-14</th>\n",
       "      <td>63</td>\n",
       "      <td>73.892857</td>\n",
       "      <td>80</td>\n",
       "    </tr>\n",
       "  </tbody>\n",
       "</table>\n",
       "</div>"
      ],
      "text/plain": [
       "            min_temp   avg_temp  max_temp\n",
       "date                                     \n",
       "2017-05-05        67  73.396552        79\n",
       "2017-05-06        66  73.140351        80\n",
       "2017-05-07        64  71.788462        79\n",
       "2017-05-08        65  72.188679        80\n",
       "2017-05-09        67  72.932203        79\n",
       "2017-05-10        64  73.315789        78\n",
       "2017-05-11        65  73.611111        79\n",
       "2017-05-12        65  73.137931        79\n",
       "2017-05-13        67  73.142857        79\n",
       "2017-05-14        63  73.892857        80"
      ]
     },
     "execution_count": 38,
     "metadata": {},
     "output_type": "execute_result"
    }
   ],
   "source": [
    "#to DataFrame add column 'date' = new_dates\n",
    "dn_df['date']=dates\n",
    "#set the index equal to the 'date'\n",
    "dn_df.set_index('date', drop=True, inplace=True)\n",
    "dn_df.head(10)"
   ]
  },
  {
   "cell_type": "code",
   "execution_count": 39,
   "metadata": {},
   "outputs": [
    {
     "data": {
      "image/png": "[encoded data removed]",
      "text/plain": [
       "<matplotlib.figure.Figure at 0x1124a8cf8>"
      ]
     },
     "metadata": {},
     "output_type": "display_data"
    }
   ],
   "source": [
    "#Use Pandas to plot an area plot (stacked=False) for the daily normals\n",
    "dn_df.plot(kind='area', stacked=False, figsize=(8,6), alpha=0.4, x_compat=True)\n",
    "plt.title(\"Daily Normals\")\n",
    "plt.tight_layout()\n",
    "plt.savefig(\"daily_normals.png\", dpi=100, bbox_inches='tight')\n",
    "plt.show()"
   ]
  },
  {
   "cell_type": "code",
   "execution_count": null,
   "metadata": {},
   "outputs": [],
   "source": []
  }
 ],
 "metadata": {
  "kernelspec": {
   "display_name": "Python 3",
   "language": "python",
   "name": "python3"
  },
  "language_info": {
   "codemirror_mode": {
    "name": "ipython",
    "version": 3
   },
   "file_extension": ".py",
   "mimetype": "text/x-python",
   "name": "python",
   "nbconvert_exporter": "python",
   "pygments_lexer": "ipython3",
   "version": "3.6.4"
  }
 },
 "nbformat": 4,
 "nbformat_minor": 2
}
